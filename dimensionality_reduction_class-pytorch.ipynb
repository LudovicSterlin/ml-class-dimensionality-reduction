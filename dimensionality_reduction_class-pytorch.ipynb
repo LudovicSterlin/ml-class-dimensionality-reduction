{
 "cells": [
  {
   "cell_type": "code",
   "execution_count": 15,
   "metadata": {},
   "outputs": [],
   "source": [
    "import torch\n",
    "from torch.autograd import Variable\n",
    "import numpy as np\n",
    "import torch.nn.functional as F\n",
    "import torch.optim as optim\n",
    "from torch import nn\n",
    "from tqdm.autonotebook import tqdm, trange"
   ]
  },
  {
   "cell_type": "markdown",
   "metadata": {},
   "source": [
    "## BASE CLASSES FOR MODELS"
   ]
  },
  {
   "cell_type": "code",
   "execution_count": 16,
   "metadata": {
    "lines_to_next_cell": 1
   },
   "outputs": [],
   "source": [
    "class Encoder(torch.nn.Module):\n",
    "    def __init__(self, D_in, H, D_out):\n",
    "        super(Encoder, self).__init__()\n",
    "        self.linear1 = torch.nn.Linear(D_in, H)\n",
    "        self.linear2 = torch.nn.Linear(H, D_out)\n",
    "\n",
    "    def forward(self, x):\n",
    "        x = F.relu(self.linear1(x))\n",
    "        return F.relu(self.linear2(x))\n",
    "\n",
    "class Decoder(torch.nn.Module):\n",
    "    def __init__(self, D_in, H, D_out):\n",
    "        super(Decoder, self).__init__()\n",
    "        self.linear1 = torch.nn.Linear(D_in, H)\n",
    "        self.linear2 = torch.nn.Linear(H, D_out)\n",
    "\n",
    "    def forward(self, x):\n",
    "        x = F.relu(self.linear1(x))\n",
    "        return torch.sigmoid(self.linear2(x))"
   ]
  },
  {
   "cell_type": "markdown",
   "metadata": {},
   "source": [
    "## AUTOENCODER MODELS"
   ]
  },
  {
   "cell_type": "code",
   "execution_count": 17,
   "metadata": {
    "lines_to_next_cell": 1
   },
   "outputs": [],
   "source": [
    "latent_dim = 8\n",
    "\n",
    "\n",
    "class AE(torch.nn.Module):\n",
    "  \n",
    "    def __init__(self, encoder, decoder):\n",
    "        super(AE, self).__init__()\n",
    "        self.encoder = encoder\n",
    "        self.decoder = decoder\n",
    "\n",
    "    def forward(self, state):\n",
    "        h_enc = self.encoder(state)\n",
    "        return self.decoder(h_enc)\n",
    "\n",
    "class VAE(torch.nn.Module):\n",
    "\n",
    "    def __init__(self, encoder, decoder):\n",
    "        super(VAE, self).__init__()\n",
    "        self.encoder = encoder\n",
    "        self.decoder = decoder\n",
    "        self._enc_mu = torch.nn.Linear(latent_dim, latent_dim)\n",
    "        self._enc_log_sigma = torch.nn.Linear(latent_dim, latent_dim)\n",
    "\n",
    "    def _sample_latent(self, h_enc):\n",
    "        \"\"\"\n",
    "        Returns the latent normal sample z ~ N(mu, sigma^2)\n",
    "        \"\"\"\n",
    "        mu = self._enc_mu(h_enc)\n",
    "        log_sigma = self._enc_log_sigma(h_enc)\n",
    "        sigma = torch.exp(log_sigma)\n",
    "        std_z = torch.from_numpy(np.random.normal(0, 1, size=sigma.size())).float()\n",
    "\n",
    "        self.z_mean = mu\n",
    "        self.z_sigma = sigma\n",
    "\n",
    "        return mu + sigma * Variable(std_z, requires_grad=False)  # Reparameterization trick\n",
    "\n",
    "    def forward(self, state):\n",
    "        h_enc = self.encoder(state)\n",
    "        z = self._sample_latent(h_enc)\n",
    "        return self.decoder(z)"
   ]
  },
  {
   "cell_type": "markdown",
   "metadata": {},
   "source": [
    "## TORCH LOSSES"
   ]
  },
  {
   "cell_type": "code",
   "execution_count": 18,
   "metadata": {
    "lines_to_next_cell": 1
   },
   "outputs": [],
   "source": [
    "def latent_loss_for_vae(z_mean, z_stddev):\n",
    "    mean_sq = z_mean * z_mean\n",
    "    stddev_sq = z_stddev * z_stddev\n",
    "    return 0.5 * torch.mean(mean_sq + stddev_sq - torch.log(stddev_sq) - 1)"
   ]
  },
  {
   "cell_type": "markdown",
   "metadata": {},
   "source": [
    "## TORCH-COMPATIBLE DATA"
   ]
  },
  {
   "cell_type": "code",
   "execution_count": 19,
   "metadata": {},
   "outputs": [],
   "source": [
    "import torchvision\n",
    "from torchvision import transforms"
   ]
  },
  {
   "cell_type": "code",
   "execution_count": 20,
   "metadata": {},
   "outputs": [],
   "source": [
    "input_dim = 28 * 28\n",
    "batch_size = 32\n",
    "transform = transforms.Compose([transforms.ToTensor()])\n",
    "mnist_data = torchvision.datasets.MNIST('./', transform=transform, download=True)\n",
    "\n",
    "dataloader = torch.utils.data.DataLoader(\n",
    "        mnist_data, batch_size=batch_size, shuffle=True, num_workers=2 # On Colab you may ask for more than 2 workers maybe?\n",
    ")"
   ]
  },
  {
   "cell_type": "code",
   "execution_count": 21,
   "metadata": {},
   "outputs": [],
   "source": [
    "encoder1 = Encoder(input_dim, 100, latent_dim) # for these examples I set the hidden layer to size 100 but you can play with it\n",
    "decoder1 = Decoder(latent_dim, 100, input_dim)\n",
    "\n",
    "encoder2 = Encoder(input_dim, 100, latent_dim)\n",
    "decoder2 = Decoder(latent_dim, 100, input_dim)\n",
    "\n",
    "ae = AE(encoder1,decoder1)\n",
    "vae = VAE(encoder2, decoder2)"
   ]
  },
  {
   "cell_type": "markdown",
   "metadata": {},
   "source": [
    "## TORCH AE / VAE TRAINING"
   ]
  },
  {
   "cell_type": "code",
   "execution_count": 36,
   "metadata": {
    "lines_to_next_cell": 2
   },
   "outputs": [
    {
     "output_type": "stream",
     "name": "stderr",
     "text": [
      "Epoch:   3%|▎         | 1/30 [00:07<03:39,  7.59s/it]\n",
      "epoch=0, l=3485.34765625\n",
      "Epoch:   7%|▋         | 2/30 [00:15<03:32,  7.59s/it]\n",
      "epoch=1, l=3451.40234375\n",
      "Epoch:  10%|█         | 3/30 [00:22<03:25,  7.63s/it]\n",
      "epoch=2, l=3560.97998046875\n",
      "Epoch:  13%|█▎        | 4/30 [00:30<03:18,  7.63s/it]\n",
      "epoch=3, l=3547.359375\n",
      "Epoch:  17%|█▋        | 5/30 [00:38<03:12,  7.68s/it]\n",
      "epoch=4, l=3680.173828125\n",
      "Epoch:  20%|██        | 6/30 [00:46<03:04,  7.71s/it]\n",
      "epoch=5, l=3832.96826171875\n",
      "Epoch:  23%|██▎       | 7/30 [00:53<02:57,  7.72s/it]\n",
      "epoch=6, l=3699.478271484375\n",
      "Epoch:  27%|██▋       | 8/30 [01:02<02:53,  7.89s/it]\n",
      "epoch=7, l=3693.30615234375\n",
      "Epoch:  30%|███       | 9/30 [01:09<02:45,  7.88s/it]\n",
      "epoch=8, l=3431.863525390625\n",
      "Epoch:  33%|███▎      | 10/30 [01:17<02:36,  7.82s/it]\n",
      "epoch=9, l=3355.361572265625\n",
      "Epoch:  37%|███▋      | 11/30 [01:25<02:29,  7.85s/it]\n",
      "epoch=10, l=3783.016357421875\n",
      "Epoch:  40%|████      | 12/30 [01:33<02:19,  7.78s/it]\n",
      "epoch=11, l=3914.804443359375\n",
      "Epoch:  43%|████▎     | 13/30 [01:40<02:10,  7.67s/it]\n",
      "epoch=12, l=3887.690673828125\n",
      "Epoch:  47%|████▋     | 14/30 [01:48<02:05,  7.82s/it]\n",
      "epoch=13, l=3672.517333984375\n",
      "Epoch:  50%|█████     | 15/30 [01:56<01:56,  7.78s/it]\n",
      "epoch=14, l=3367.67822265625\n",
      "Epoch:  53%|█████▎    | 16/30 [02:04<01:50,  7.87s/it]\n",
      "epoch=15, l=3336.313720703125\n",
      "Epoch:  57%|█████▋    | 17/30 [02:13<01:45,  8.09s/it]\n",
      "epoch=16, l=3266.007568359375\n",
      "Epoch:  60%|██████    | 18/30 [02:23<01:46,  8.86s/it]\n",
      "epoch=17, l=3274.877685546875\n",
      "Epoch:  63%|██████▎   | 19/30 [02:32<01:35,  8.70s/it]\n",
      "epoch=18, l=3295.34521484375\n",
      "Epoch:  67%|██████▋   | 20/30 [02:39<01:24,  8.44s/it]\n",
      "epoch=19, l=3162.193359375\n",
      "Epoch:  70%|███████   | 21/30 [02:47<01:13,  8.19s/it]\n",
      "epoch=20, l=3541.2705078125\n",
      "Epoch:  73%|███████▎  | 22/30 [02:55<01:03,  7.98s/it]\n",
      "epoch=21, l=3695.047119140625\n",
      "Epoch:  77%|███████▋  | 23/30 [03:04<00:59,  8.44s/it]\n",
      "epoch=22, l=3245.67626953125\n",
      "Epoch:  80%|████████  | 24/30 [03:13<00:50,  8.46s/it]\n",
      "epoch=23, l=3462.734375\n",
      "Epoch:  83%|████████▎ | 25/30 [03:21<00:42,  8.46s/it]\n",
      "epoch=24, l=3531.74462890625\n",
      "Epoch:  87%|████████▋ | 26/30 [03:29<00:32,  8.19s/it]\n",
      "epoch=25, l=3652.556640625\n",
      "Epoch:  90%|█████████ | 27/30 [03:36<00:24,  8.02s/it]\n",
      "epoch=26, l=3603.9736328125\n",
      "Epoch:  93%|█████████▎| 28/30 [03:44<00:15,  7.89s/it]\n",
      "epoch=27, l=3310.065673828125\n",
      "Epoch:  97%|█████████▋| 29/30 [03:52<00:07,  7.83s/it]\n",
      "epoch=28, l=3553.422119140625\n",
      "Epoch: 100%|██████████| 30/30 [04:01<00:00,  8.04s/it]\n",
      "epoch=29, l=2939.7958984375\n",
      "\n"
     ]
    }
   ],
   "source": [
    "criterion = nn.BCELoss(reduction='sum') # Binary cross-entropy\n",
    "optimizer = optim.Adam(ae.parameters(), lr=0.0001) # change to vae.parameters() for VAE version\n",
    "\n",
    "l = None\n",
    "for epoch in tqdm(range(30), desc=\"Epoch\"):\n",
    "    for i, data in enumerate(dataloader, 0):\n",
    "        inputs, classes = data\n",
    "        inputs, classes = Variable(inputs.resize_(batch_size, input_dim)), Variable(classes)\n",
    "        optimizer.zero_grad()\n",
    "\n",
    "        # Use one of these two for AE or VAE training\n",
    "\n",
    "        # This is for VAE\n",
    "        #dec = vae(inputs)\n",
    "        #ll = latent_loss_for_vae(vae.z_mean, vae.z_sigma)\n",
    "        #loss = criterion(dec, inputs) + ll\n",
    "\n",
    "        # This is for \"vanilla\" AE\n",
    "        decode = ae(inputs)\n",
    "        loss = criterion(decode, inputs)\n",
    "\n",
    "        loss.backward()\n",
    "        optimizer.step()\n",
    "        l = loss.item()\n",
    "    # print(epoch, l)\n",
    "    tqdm.write(f\"\\t\\t{epoch=}, {l=}\", end=\"\")"
   ]
  },
  {
   "cell_type": "markdown",
   "metadata": {},
   "source": [
    "## ADAPT IMAGE DISPLAY TO TORCH"
   ]
  },
  {
   "cell_type": "code",
   "execution_count": 82,
   "metadata": {},
   "outputs": [
    {
     "output_type": "display_data",
     "data": {
      "text/plain": "<Figure size 1440x288 with 20 Axes>",
      "image/svg+xml": "<?xml version=\"1.0\" encoding=\"utf-8\" standalone=\"no\"?>\n<!DOCTYPE svg PUBLIC \"-//W3C//DTD SVG 1.1//EN\"\n  \"http://www.w3.org/Graphics/SVG/1.1/DTD/svg11.dtd\">\n<!-- Created with matplotlib (https://matplotlib.org/) -->\n<svg height=\"231.079908pt\" version=\"1.1\" viewBox=\"0 0 1133.9 231.079908\" width=\"1133.9pt\" xmlns=\"http://www.w3.org/2000/svg\" xmlns:xlink=\"http://www.w3.org/1999/xlink\">\n <defs>\n  <style type=\"text/css\">\n*{stroke-linecap:butt;stroke-linejoin:round;}\n  </style>\n </defs>\n <g id=\"figure_1\">\n  <g id=\"patch_1\">\n   <path d=\"M 0 231.079908 \nL 1133.9 231.079908 \nL 1133.9 0 \nL 0 0 \nz\n\" style=\"fill:none;\"/>\n  </g>\n  <g id=\"axes_1\">\n   <g id=\"patch_2\">\n    <path d=\"M 10.7 101.776271 \nL 105.276271 101.776271 \nL 105.276271 7.2 \nL 10.7 7.2 \nz\n\" style=\"fill:#ffffff;\"/>\n   </g>\n   <g clip-path=\"url(#p80a3aa7561)\">\n    <image height=\"95\" id=\"image87f0385f68\" transform=\"scale(1 -1)translate(0 -95)\" width=\"95\" x=\"10.7\" xlink:href=\"data:image/png;base64,\niVBORw0KGgoAAAANSUhEUgAAAF8AAABfCAYAAACOTBv1AAAABHNCSVQICAgIfAhkiAAABBFJREFUeJztnMsrblEYxpdDBu4xoJTEgJCUW0kkRYlyHRiYGomRiVImpMRADGSg/AdkQsploERuA6WMpAwpt8jlzN6z1u7s73zfOt/+nr3PeX6jZ/XutSxPb2/7W3utFaeU+lYEwg/0BP5naD4Qmg+E5gOh+UBoPhCaD4TmA6H5QBJsO05PT4seHR0Nq8/l5aXR3tjYEP3x8SF6dnbWeO7h4cFmir6HmQ+E5gOh+UDilOWqZm1trWi95tfU1BjP5ebmRjz2y8uL0Z6fnxc9NTUl+vn5OeKx/QQzHwjNB2JddtzIzMw02ktLS6IrKiqMWEFBQcTjHxwciHa+km5ubop+fX2NeOxYw8wHQvOBRL3shCI7O9tol5SUiF5YWBBdXFxsNf7h4aHomZkZI7a2tib66+vLavxow8wHQvOB0HwgMa35ocjJyRHd399vxIaGhkTn5+dbjX98fCx6cnJS9Pr6utV40YCZD4TmA/FN2QlFUVGRaL0EdXd3G8/ppSsUn5+fore3t41YW1ubzRStYOYDoflAaD6QQNR8N8rLy412b2+v6OrqaiPW0tLy2zEuLi6MdmVlpWivlyGY+UBoPpBAl51IeHt7E52Q8Gu7kr5fSCmlWltbRe/u7no6J2Y+EJoPxHq7oB/JyMgQ3dHRYcTi4+N/22d/f99oe11qdJj5QGg+EJoPJNA1v6yszGjPzc2Jbm5udu2n7yXSP6zEGmY+EJoPJHBlp6urS/TKyooRS01Nde03NjYmenV1VfTd3V0UZxcZzHwgNB8IzQcSiFXNwsJC0ScnJ6KdpxR3dnZE6/t0lFJqcXFR9Pe3P/5lZj4Qmg/El6+aycnJRnt5eVl0SkqK6L6+PuO5ra0tbycWZZj5QGg+EF+WnYmJCaPd2Ngoem9vT7Rzq1/QYOYDoflAaD4QaM1PS0sT/fj4KDo9Pd21j/7a6ZdThbYw84HQfCAxXVjr7Ow02u3t7aJPT09F61e8ODk7OxPd0NBgxPQrYEpLS43YyMiI6MHBwTBn7C3MfCA0H4jnZUe/Aka/G0EpuytfdJzj6ev7TU1NRuz9/V10qLepWMLMB0LzgdB8IJ7/ws3LyxOdlZUV1bH1Gw7/hH4aZWBgQPTT05NrH+eenvv7e9FXV1dh/203mPlAaD6QmP7C1UuQUkolJiaKrqurE11fX288p5846enp+et53N7eij46OjJi+nZE56Wp5+fnosfHx0XbnmZh5gOh+UBoPpCYfky5ublxjV1fX4vWt3ArZZ4kDHdpQL+XRymlkpKSROv39wwPDxvP6csQzuvGqqqqROsf9VnzAwjNBxKIXcr/Ksx8IDQfCM0HQvOB0HwgNB8IzQdC84HQfCA0HwjNB0LzgdB8IDQfCM0HQvOB/ARWCujtEf5R2wAAAABJRU5ErkJggg==\" y=\"-6.776271\"/>\n   </g>\n   <g id=\"patch_3\">\n    <path d=\"M 10.7 101.776271 \nL 10.7 7.2 \n\" style=\"fill:none;stroke:#000000;stroke-linecap:square;stroke-linejoin:miter;stroke-width:0.8;\"/>\n   </g>\n   <g id=\"patch_4\">\n    <path d=\"M 105.276271 101.776271 \nL 105.276271 7.2 \n\" style=\"fill:none;stroke:#000000;stroke-linecap:square;stroke-linejoin:miter;stroke-width:0.8;\"/>\n   </g>\n   <g id=\"patch_5\">\n    <path d=\"M 10.7 101.776271 \nL 105.276271 101.776271 \n\" style=\"fill:none;stroke:#000000;stroke-linecap:square;stroke-linejoin:miter;stroke-width:0.8;\"/>\n   </g>\n   <g id=\"patch_6\">\n    <path d=\"M 10.7 7.2 \nL 105.276271 7.2 \n\" style=\"fill:none;stroke:#000000;stroke-linecap:square;stroke-linejoin:miter;stroke-width:0.8;\"/>\n   </g>\n  </g>\n  <g id=\"axes_2\">\n   <g id=\"patch_7\">\n    <path d=\"M 10.7 220.379908 \nL 105.276271 220.379908 \nL 105.276271 125.803636 \nL 10.7 125.803636 \nz\n\" style=\"fill:#ffffff;\"/>\n   </g>\n   <g clip-path=\"url(#pbb967cbe40)\">\n    <image height=\"95\" id=\"image278432b6d9\" transform=\"scale(1 -1)translate(0 -95)\" width=\"95\" x=\"10.7\" xlink:href=\"data:image/png;base64,\niVBORw0KGgoAAAANSUhEUgAAAF8AAABfCAYAAACOTBv1AAAABHNCSVQICAgIfAhkiAAAAadJREFUeJzt3EGugjAUQNHW/AHbYIMshhWyDGY4M8jAYH/ltrx7RiYmam7qoyAxp5S2JMSD/gCRGR9kfJDxQcYHGR9kfJDxQcYH/dV4kW1r4yQ550x/hK+48kHGBxkflFPhVc1W5nyJVo4NrnyQ8UGnx07PY+YTcgS58kHGB4Xc7Xxy5Rhy5YOMDzI+qMpVzTvZH8t+Pf9d+SDjg9Cx89+vde/bXVc+yPgg44OKZ/5+XlOz93jM6O0Y4MoHGR9UZau5//qv6/r23DAMNd7iMl7VDML4oOIfU2pocXfi2AnC+CDjgy69qtnijCe58kHGBxkfZHyQ8UHGB4W/b8dbxIMyPij82DmedXtVMwjjg4wPMj7I+CDjg8JvNY/2W89lWd6eG8ex6nu58kHGB116386dfsOtcSbsygcZH+Rup9A8z6/H0zQVvYYrH2R8kPFB3iJeQem205UPMj6omf9euMsI+oYrH2R8kPFB6FbzrBaPB17V7JzxQV2MndrOjjH/XfDGjA8KOXZa4coHGR9kfJDxQcYHGR9kfJDxQcYHGR9kfJDxQcYHPQFggUbHwKbPGAAAAABJRU5ErkJggg==\" y=\"-125.379908\"/>\n   </g>\n   <g id=\"patch_8\">\n    <path d=\"M 10.7 220.379908 \nL 10.7 125.803636 \n\" style=\"fill:none;stroke:#000000;stroke-linecap:square;stroke-linejoin:miter;stroke-width:0.8;\"/>\n   </g>\n   <g id=\"patch_9\">\n    <path d=\"M 105.276271 220.379908 \nL 105.276271 125.803636 \n\" style=\"fill:none;stroke:#000000;stroke-linecap:square;stroke-linejoin:miter;stroke-width:0.8;\"/>\n   </g>\n   <g id=\"patch_10\">\n    <path d=\"M 10.7 220.379908 \nL 105.276271 220.379908 \n\" style=\"fill:none;stroke:#000000;stroke-linecap:square;stroke-linejoin:miter;stroke-width:0.8;\"/>\n   </g>\n   <g id=\"patch_11\">\n    <path d=\"M 10.7 125.803636 \nL 105.276271 125.803636 \n\" style=\"fill:none;stroke:#000000;stroke-linecap:square;stroke-linejoin:miter;stroke-width:0.8;\"/>\n   </g>\n  </g>\n  <g id=\"axes_3\">\n   <g id=\"patch_12\">\n    <path d=\"M 124.191525 101.776271 \nL 218.767797 101.776271 \nL 218.767797 7.2 \nL 124.191525 7.2 \nz\n\" style=\"fill:#ffffff;\"/>\n   </g>\n   <g clip-path=\"url(#p88ef988dd8)\">\n    <image height=\"95\" id=\"image0030d80eef\" transform=\"scale(1 -1)translate(0 -95)\" width=\"95\" x=\"124.191525\" xlink:href=\"data:image/png;base64,\niVBORw0KGgoAAAANSUhEUgAAAF8AAABfCAYAAACOTBv1AAAABHNCSVQICAgIfAhkiAAABHBJREFUeJztnEsotlsUx/d7EkkxMCIDBqYuySW5lKHM5FoMmbjkWgojQ4UMpGQg5V4kJEXKbeBSxkbukoFLCuGMzmqt55z37emzn/fPsX6j/27tZz/7+7e+/eyb12eM+TQKhL/QHfjNqPlA1Hwgaj4QNR+Img9EzQei5gNR84Go+UDUfCBqPhA1H0iI1y+IiYkhXVtbK2KdnZ2kfT4f6c9PudE6MDBAemhoiPTJyYm1fiLQzAei5gPxGcuHKXFxcaI8MzNDOj093X9HAgw7nLu7O9KTk5Mi1tjY6Lqf3wHNfCBqPhDrw05JSYkoT0xMuHru5uaG9MPDg4glJia6amN3d5f0xsaGiHV3d7tqI5ho5gNR84Go+UA8X+Fy3t/fRXl4eJj06OgoaT6dNMaYrKws0lVVVaSTk5NFvezsbNLOKS//bvAV897enqu+e4FmPhA1H4j1YYevVJ3l6+trEWtoaHDV5tnZGWm+YnbS1NREuqurS8RKS0tJv729kdZh55ei5gNR84FYH/OdO5K8PD8/b/t1gr6+PtLO7YW2tjbSlZWVpCMiIkS94uJij3r3bzTzgaj5QIK6q8mnjMYYk5CQYPPVAQkLCyPNz447OjpEvYuLC9I1NTUitrq6arVPmvlA1HwgQd1Y4//1jZHXSq6urjx998vLC+menh7SISHSgvb2dtItLS0itr29Tfrp6enLfdLMB6LmA1HzgVifahYVFYny9PQ06dDQUBFrbW0l3d/fb7Mbfww/8HGu1vlVxfr6+i+/SzMfiJoPxPqw42RnZ4d0ZmamiG1ubpIuKCjwshuu4UPNx8eHiPF/S25u7pffpZkPRM0HouYD8Xx7obm5mfTW1paI5eXlkc7PzyfNvwXBho/zga6q20AzH4iaD8TzYefo6Ij08vKyiBUWFpJeWFggXVZWJurt7++TDg8PJ31+fm6tnwg084Go+UA8H3b4IQbfSDPGmMfHR9Ll5eWkx8bGRD1+0MIPQmZnZ6310w2np6dW29PMB6LmA1HzgXi+qxmIlJQU0uvr66QjIyP9PrOyskK6oqJCxPgqOSkpScRGRkZI397e+m2fH6Y8Pz/7bf/w8NBvG27RzAei5gOBDjuctLQ00mtrayIWFRX1n884N+AWFxdJ9/b2itjl5SVpfs4cHx8v6vGb1FNTUyLGp8M20MwHouYDCep1wUAcHByQXlpaEjHnrOYf+HmAMXI24tyL51cTU1NTSfO/6zVG9/N/DWo+EDUfyLcZ8znOXyHkv9EwPj5O2vn7CoHgK1J+vZt/J5wcHx+7bv9P0MwHouYD+TYrXLdkZGSQnpubE7HY2FjSzmkiP7h5fX0lHR0dLerl5OSQdm6e8edsoJkPRM0HouYD+XFjPocfxhjj/kCGc39/L8rOb4CXaOYDUfOB/Ohhxwk/kKmrqxOx6upq0vxe0ODgoKhn42zWLZr5QNR8IP+rYeenoZkPRM0HouYDUfOBqPlA1Hwgaj4QNR+Img9EzQei5gNR84Go+UD+BqwgOFtxCBGtAAAAAElFTkSuQmCC\" y=\"-6.776271\"/>\n   </g>\n   <g id=\"patch_13\">\n    <path d=\"M 124.191525 101.776271 \nL 124.191525 7.2 \n\" style=\"fill:none;stroke:#000000;stroke-linecap:square;stroke-linejoin:miter;stroke-width:0.8;\"/>\n   </g>\n   <g id=\"patch_14\">\n    <path d=\"M 218.767797 101.776271 \nL 218.767797 7.2 \n\" style=\"fill:none;stroke:#000000;stroke-linecap:square;stroke-linejoin:miter;stroke-width:0.8;\"/>\n   </g>\n   <g id=\"patch_15\">\n    <path d=\"M 124.191525 101.776271 \nL 218.767797 101.776271 \n\" style=\"fill:none;stroke:#000000;stroke-linecap:square;stroke-linejoin:miter;stroke-width:0.8;\"/>\n   </g>\n   <g id=\"patch_16\">\n    <path d=\"M 124.191525 7.2 \nL 218.767797 7.2 \n\" style=\"fill:none;stroke:#000000;stroke-linecap:square;stroke-linejoin:miter;stroke-width:0.8;\"/>\n   </g>\n  </g>\n  <g id=\"axes_4\">\n   <g id=\"patch_17\">\n    <path d=\"M 124.191525 220.379908 \nL 218.767797 220.379908 \nL 218.767797 125.803636 \nL 124.191525 125.803636 \nz\n\" style=\"fill:#ffffff;\"/>\n   </g>\n   <g clip-path=\"url(#pbcf6ce600f)\">\n    <image height=\"95\" id=\"imagecd2747779e\" transform=\"scale(1 -1)translate(0 -95)\" width=\"95\" x=\"124.191525\" xlink:href=\"data:image/png;base64,\niVBORw0KGgoAAAANSUhEUgAAAF8AAABfCAYAAACOTBv1AAAABHNCSVQICAgIfAhkiAAAAalJREFUeJzt3EFugzAQQFEb9Qbc/4gcAdFda7FACRn7j8l/q66S6Gs6uBC1llKOIsRCf4BvZnyQ8UHGBxkfZHyQ8UHGBxkfZHyQ8UHGBxkf9NP7DY6DuWlaa0Xe9x1OPsj4oFqCH6ZQa+Yucj05+SDjg0LWzmyr5lW9V5KTDzI+yPig7n/hzux8LYu+Bjj5IOODXDtv2Lbt7+d1XT9+PScfZHyQ8UFpbi9EHONG3uaI+LxOPsj4oEcdNa9WQfRKal/v7gpy8kHGB6VZOxG/xlfa18zy8MfJBxkfZHyQ8UHGBxkfFHLUjD7GXb3G3ffK+K1lJx9kfJDxQeFfET/L8qd8T97VnJDxQWnuao6U5Q6nkw8yPqj7aaf11JOPp50JGR9kfNDQo+Z5Nz71GvAqJx9kfNDQo+aV2VaQ31KenPFBxgcZH2R8kPFBaR6mZHnAMZKTDzI+KM3aaX3LDTgnH2R8kPFBKXf+WXsNWJb/edn3nfg4YZx8kPFBaR6mROh9JPW/Cz6I8UGPWjuzcfJBxgcZH2R8kPFBxgcZH2R8kPFBxgcZH2R8kPFBv8POTsNS3B0TAAAAAElFTkSuQmCC\" y=\"-125.379908\"/>\n   </g>\n   <g id=\"patch_18\">\n    <path d=\"M 124.191525 220.379908 \nL 124.191525 125.803636 \n\" style=\"fill:none;stroke:#000000;stroke-linecap:square;stroke-linejoin:miter;stroke-width:0.8;\"/>\n   </g>\n   <g id=\"patch_19\">\n    <path d=\"M 218.767797 220.379908 \nL 218.767797 125.803636 \n\" style=\"fill:none;stroke:#000000;stroke-linecap:square;stroke-linejoin:miter;stroke-width:0.8;\"/>\n   </g>\n   <g id=\"patch_20\">\n    <path d=\"M 124.191525 220.379908 \nL 218.767797 220.379908 \n\" style=\"fill:none;stroke:#000000;stroke-linecap:square;stroke-linejoin:miter;stroke-width:0.8;\"/>\n   </g>\n   <g id=\"patch_21\">\n    <path d=\"M 124.191525 125.803636 \nL 218.767797 125.803636 \n\" style=\"fill:none;stroke:#000000;stroke-linecap:square;stroke-linejoin:miter;stroke-width:0.8;\"/>\n   </g>\n  </g>\n  <g id=\"axes_5\">\n   <g id=\"patch_22\">\n    <path d=\"M 237.683051 101.776271 \nL 332.259322 101.776271 \nL 332.259322 7.2 \nL 237.683051 7.2 \nz\n\" style=\"fill:#ffffff;\"/>\n   </g>\n   <g clip-path=\"url(#p4fa56c0b12)\">\n    <image height=\"95\" id=\"image56768c4d9d\" transform=\"scale(1 -1)translate(0 -95)\" width=\"95\" x=\"237.683051\" xlink:href=\"data:image/png;base64,\niVBORw0KGgoAAAANSUhEUgAAAF8AAABfCAYAAACOTBv1AAAABHNCSVQICAgIfAhkiAAAA2JJREFUeJztnL9LelEYxq8R/RgKnARrrBCEHKQhZ4Uam22IiIymhqCpfyOCwKG2WlpyE6ylIgcr6NdgUIK0RDrYEvnd3s4b9eVyPfpU9/lMz/EcvacPby/3etWA4zhNh0DoQm/Az1A+EMoHQvlAKB8I5QOhfCCUD4TygXSjN9Ap5ubmJGezWclbW1tqXSaT6dSWWPlIKB8I5QPxTc+fnp6WHAgEgDv5gJUPhPKB+KbtmDSbP+P+ESsfCOUD8WXbMTk+PoYdm5UPhPKBUD4QX/Z88wr3/f0dtg9WPhDKB+LLtmNe4d7d3cH2wcoHQvlAKB8I5QOhfCCUD8SXp5omMzMzanxyctKxY7PygVA+kIDj8Qtxa2trkhOJRMsb2d/fl3x9fa3mbLSCxcVFyZubm5LL5bJaNzIy0vKx3MLKB0L5QCgfiOuev7GxocbmR6lfXl4kPzw8uD74+Pj4x0aMGxxvb29qXaPRkHx1dSX59PRUrSsWi5IPDw/V3NPTk+RKpSI5GAyqdT09Pa72bgNWPhDKB+L6Cre/v1+NzTaxtLQkeW9vz/XBY7HYl6+XTCbVuuHhYclmW5ifn1frFhYWJL++vqo5s0X19fVJ7urS9ReJRCTf3Nz8/w9oEVY+EMoHQvlArLyr+fz87Ol55+fnXz5eKpVcPX95eVmNBwcHJU9NTam52dlZyb29vZI/9/x4PC6ZPf8PQ/lArLSdiYkJyfl83sZLeqJer0ve3d1Vc+Z4Z2dHcjqdVuvW19clHxwcqDnzSt4GrHwglA/Eddu5vb39di4ajVrZTKdYXV2V/PlqemxsTPLAwICaY9v5Q1A+EMoH4rrn53I5NTZPyX4b5o2V+/t7NRcKhSQPDQ2pucfHR6v7YOUDoXwgrtvOxcWFGpv/ur+ZWq327VwqlVJj2x8lZOUDoXwgnt9YQ35/1SbmfV/H0Wc0o6OjbT02Kx8I5QOhfCCee/729rbkdvfGdlKtVtXY/IXZyclJNWf7Mz2sfCCUD8Rz2ykUCpIvLy9t7AXC51Nm8422cDis5mz/KiErHwjlA6F8IJ57/tHRkc19/BjOzs4kr6ystPVYrHwglA/E85egSeuw8oFQPhDKB0L5QCgfCOUDoXwglA+E8oFQPhDKB0L5QCgfCOUDoXwglA/kH9YPwDjyX3vrAAAAAElFTkSuQmCC\" y=\"-6.776271\"/>\n   </g>\n   <g id=\"patch_23\">\n    <path d=\"M 237.683051 101.776271 \nL 237.683051 7.2 \n\" style=\"fill:none;stroke:#000000;stroke-linecap:square;stroke-linejoin:miter;stroke-width:0.8;\"/>\n   </g>\n   <g id=\"patch_24\">\n    <path d=\"M 332.259322 101.776271 \nL 332.259322 7.2 \n\" style=\"fill:none;stroke:#000000;stroke-linecap:square;stroke-linejoin:miter;stroke-width:0.8;\"/>\n   </g>\n   <g id=\"patch_25\">\n    <path d=\"M 237.683051 101.776271 \nL 332.259322 101.776271 \n\" style=\"fill:none;stroke:#000000;stroke-linecap:square;stroke-linejoin:miter;stroke-width:0.8;\"/>\n   </g>\n   <g id=\"patch_26\">\n    <path d=\"M 237.683051 7.2 \nL 332.259322 7.2 \n\" style=\"fill:none;stroke:#000000;stroke-linecap:square;stroke-linejoin:miter;stroke-width:0.8;\"/>\n   </g>\n  </g>\n  <g id=\"axes_6\">\n   <g id=\"patch_27\">\n    <path d=\"M 237.683051 220.379908 \nL 332.259322 220.379908 \nL 332.259322 125.803636 \nL 237.683051 125.803636 \nz\n\" style=\"fill:#ffffff;\"/>\n   </g>\n   <g clip-path=\"url(#pf5bb4dcac5)\">\n    <image height=\"95\" id=\"imagedad56b8d7a\" transform=\"scale(1 -1)translate(0 -95)\" width=\"95\" x=\"237.683051\" xlink:href=\"data:image/png;base64,\niVBORw0KGgoAAAANSUhEUgAAAF8AAABfCAYAAACOTBv1AAAABHNCSVQICAgIfAhkiAAAAcpJREFUeJzt3TFug0AUAFFAuQIVp+D+14GKMyDSWRgZRDZ/GS/Mq9zEIqOf9WJDXFdVtVRCNPQBPJnxQT/0AeTSNO9zNc/zqZ+r6zrH4Xzk5IOMDzI+qK4estVclr//mrnXfycfZHzQbbeaKcvM1Zx8kPFBxgcZH2R8kPFBt9pqlrC9XHPyQcYH3WrZibZdxqLfaHPyQcYHGR90qzV/vSaXsO108kHGBxkfZHyQ8UHGB4VsNY+2dVde+1gaJx9kfFDy5YIRZ5A5l6TcZ7gRx+7kg4wPOr3byfFnXMKbXzk5+SDjg4wPutWHKVdav16lbjudfJDxQYfLztO3gke2N1knPUfAcSiR8UHGB7nVTBTxeujkg4wPMj7I+CDjg4wPMj7I+CDjgw7PcEu706M0Tj7I+KAi3lhr2/b1eJom8EhiOfkg44NOX6VM7nb2Ls3Y/nPqiM9Vz/Iq5cIZH2R8EHpnyp7U9bTrutfjYRiiDucj1/zCGR+EnuFG3xA3juPuc0csk33f//s51px8kPFBxgeFf2dKCf+H4VuO0ckHGR/0mK9q+kZOPsj4IOODjA8yPsj4IOODjA8yPsj4IOODjA8yPsj4IOODjA/6BVQjUATA39ehAAAAAElFTkSuQmCC\" y=\"-125.379908\"/>\n   </g>\n   <g id=\"patch_28\">\n    <path d=\"M 237.683051 220.379908 \nL 237.683051 125.803636 \n\" style=\"fill:none;stroke:#000000;stroke-linecap:square;stroke-linejoin:miter;stroke-width:0.8;\"/>\n   </g>\n   <g id=\"patch_29\">\n    <path d=\"M 332.259322 220.379908 \nL 332.259322 125.803636 \n\" style=\"fill:none;stroke:#000000;stroke-linecap:square;stroke-linejoin:miter;stroke-width:0.8;\"/>\n   </g>\n   <g id=\"patch_30\">\n    <path d=\"M 237.683051 220.379908 \nL 332.259322 220.379908 \n\" style=\"fill:none;stroke:#000000;stroke-linecap:square;stroke-linejoin:miter;stroke-width:0.8;\"/>\n   </g>\n   <g id=\"patch_31\">\n    <path d=\"M 237.683051 125.803636 \nL 332.259322 125.803636 \n\" style=\"fill:none;stroke:#000000;stroke-linecap:square;stroke-linejoin:miter;stroke-width:0.8;\"/>\n   </g>\n  </g>\n  <g id=\"axes_7\">\n   <g id=\"patch_32\">\n    <path d=\"M 351.174576 101.776271 \nL 445.750847 101.776271 \nL 445.750847 7.2 \nL 351.174576 7.2 \nz\n\" style=\"fill:#ffffff;\"/>\n   </g>\n   <g clip-path=\"url(#pb8db4661e8)\">\n    <image height=\"95\" id=\"image2788306691\" transform=\"scale(1 -1)translate(0 -95)\" width=\"95\" x=\"351.174576\" xlink:href=\"data:image/png;base64,\niVBORw0KGgoAAAANSUhEUgAAAF8AAABfCAYAAACOTBv1AAAABHNCSVQICAgIfAhkiAAAAyRJREFUeJztnLFLamEYxo9xB8FBAiFJkQgHBwfnaJFaBDdFN6ls8I8IRF3dGhwajJZqcGhuSJr8E3QQa9MmA4cW7U73vd93uHkLzneeoz6/6fk438GXHy8v53COx2dZ1qdFIGyhC9hkKB8I5QOhfCCUD4TygVA+EMoHQvlAfrn5Y+FwWFvf399LPjw8lDwajbR98XjcbGEg2PlAKB8I5QNxdeYnEgltfXBw4ObPew52PhDKB0L5QCgfCOUDcfVqZzqdauvxeCx5d3dXciQS0fY1m03JFxcXkj8+Ppwu0VXY+UAoHwjlA/FZwPd22u225JOTE8mLxeLLc/b39yW/vr4aqcst2PlAKB8IdOyozOdzycvGTqlUknx7e2u0JtOw84FQPhDKB+KZmf/29iZ5e3v7y329Xk9yJpPRjs1mM+cLMwg7HwjlA/HM2EmlUpI7nY52LBaL/fOch4cHbZ3P550vzCDsfCCUD8QzY0el1Wpp6/Pz82+dl0wmJQ8GA0drMgE7HwjlA6F8IJ6c+Xt7e9p6OBx+67ybmxvJp6enTpZkBHY+EMoH4up7O9/l5eVFW+dyOcnX19eSA4GAtk99vruzs6Mdm0wmzhXoEOx8IJQPhPKBePJScxmVSkXy5eWldmxr628vPT4+aseKxaLk9/d3Q9X9DHY+EMoHsnJjR737tT90UR/I2N/9aTQakuv1upnifgg7HwjlA1m5saMSCoW0tXoXax876r9iCoWC5KenJ0PV/R92PhDKB0L5QFZ65tu5urqSfHZ29uW+brcr+ejoyGRJS2HnA6F8IGs1dtRPhdn/tWL/xNgfyuWytlafA5uGnQ+E8oGs1dhROT4+1tZ3d3eSg8Gg5H6/r+3LZrOS7c99nf7WAzsfCOUDoXwgazvz7VSrVcnqN3vsqM+B0+m0duz5+dnRmtj5QCgfiCdfFzSB+nkY9ZLR7/cjyrEsi50PhfKBUD6QjZn56qvl0WhUcq1W0/apl5o+n89oTex8IJQPZGPucL0IOx8I5QOhfCCUD4TygVA+EMoHQvlAKB8I5QOhfCCUD4TygVA+EMoHQvlAfgNQpZ5d1hWv3QAAAABJRU5ErkJggg==\" y=\"-6.776271\"/>\n   </g>\n   <g id=\"patch_33\">\n    <path d=\"M 351.174576 101.776271 \nL 351.174576 7.2 \n\" style=\"fill:none;stroke:#000000;stroke-linecap:square;stroke-linejoin:miter;stroke-width:0.8;\"/>\n   </g>\n   <g id=\"patch_34\">\n    <path d=\"M 445.750847 101.776271 \nL 445.750847 7.2 \n\" style=\"fill:none;stroke:#000000;stroke-linecap:square;stroke-linejoin:miter;stroke-width:0.8;\"/>\n   </g>\n   <g id=\"patch_35\">\n    <path d=\"M 351.174576 101.776271 \nL 445.750847 101.776271 \n\" style=\"fill:none;stroke:#000000;stroke-linecap:square;stroke-linejoin:miter;stroke-width:0.8;\"/>\n   </g>\n   <g id=\"patch_36\">\n    <path d=\"M 351.174576 7.2 \nL 445.750847 7.2 \n\" style=\"fill:none;stroke:#000000;stroke-linecap:square;stroke-linejoin:miter;stroke-width:0.8;\"/>\n   </g>\n  </g>\n  <g id=\"axes_8\">\n   <g id=\"patch_37\">\n    <path d=\"M 351.174576 220.379908 \nL 445.750847 220.379908 \nL 445.750847 125.803636 \nL 351.174576 125.803636 \nz\n\" style=\"fill:#ffffff;\"/>\n   </g>\n   <g clip-path=\"url(#p7a2620a129)\">\n    <image height=\"95\" id=\"image24fae64853\" transform=\"scale(1 -1)translate(0 -95)\" width=\"95\" x=\"351.174576\" xlink:href=\"data:image/png;base64,\niVBORw0KGgoAAAANSUhEUgAAAF8AAABfCAYAAACOTBv1AAAABHNCSVQICAgIfAhkiAAAAXtJREFUeJzt3GuqQyEMAGEt3f+WT/+KUChUnSTOt4GWIaSex729tfY0IV70F7iZ8UHGBxkfZHyQ8UHGBxkfZHzQe/cHPM//F9C99wXfJB4nH2R8kPFB23f+CuPvRqX97+SDjA8yPsj4IOODejv4DHfF1e4o+8nHyQcZH2R80NEr3HlHr/4NyMbJBxkflOLG2jfz2sp29HTyQcYHGR+E7vxxR9947HTyQcYHhTlq3riCnHyQ8UFh1s4K2V4xcfJBxgcZH1Rq548y3PF08kHGB4VcO7c863XyQcYHGR8UcufvEPHWg5MPMj4oxdqp+qDFyQcZH5Ri7awW5eTj5IOMDzI+6OhfI66249h58jfAyQcZH2R8kPFBxgelPu3Msv1vBycfZHyQ8UFX3tX81e5XDp18kPFBpdZOtme9Tj7I+CDjg0rt/FGG18ydfJDxQWXXziziMdTJBxkfVOphSjZOPsj4IOODjA8yPsj4IOODjA8yPsj4IOODjA8yPugDQBc+1W22U68AAAAASUVORK5CYII=\" y=\"-125.379908\"/>\n   </g>\n   <g id=\"patch_38\">\n    <path d=\"M 351.174576 220.379908 \nL 351.174576 125.803636 \n\" style=\"fill:none;stroke:#000000;stroke-linecap:square;stroke-linejoin:miter;stroke-width:0.8;\"/>\n   </g>\n   <g id=\"patch_39\">\n    <path d=\"M 445.750847 220.379908 \nL 445.750847 125.803636 \n\" style=\"fill:none;stroke:#000000;stroke-linecap:square;stroke-linejoin:miter;stroke-width:0.8;\"/>\n   </g>\n   <g id=\"patch_40\">\n    <path d=\"M 351.174576 220.379908 \nL 445.750847 220.379908 \n\" style=\"fill:none;stroke:#000000;stroke-linecap:square;stroke-linejoin:miter;stroke-width:0.8;\"/>\n   </g>\n   <g id=\"patch_41\">\n    <path d=\"M 351.174576 125.803636 \nL 445.750847 125.803636 \n\" style=\"fill:none;stroke:#000000;stroke-linecap:square;stroke-linejoin:miter;stroke-width:0.8;\"/>\n   </g>\n  </g>\n  <g id=\"axes_9\">\n   <g id=\"patch_42\">\n    <path d=\"M 464.666102 101.776271 \nL 559.242373 101.776271 \nL 559.242373 7.2 \nL 464.666102 7.2 \nz\n\" style=\"fill:#ffffff;\"/>\n   </g>\n   <g clip-path=\"url(#pfb162341d8)\">\n    <image height=\"95\" id=\"imagef8274bcdec\" transform=\"scale(1 -1)translate(0 -95)\" width=\"95\" x=\"464.666102\" xlink:href=\"data:image/png;base64,\niVBORw0KGgoAAAANSUhEUgAAAF8AAABfCAYAAACOTBv1AAAABHNCSVQICAgIfAhkiAAAA9RJREFUeJztnM8rtFEUx+9ISJLEwpLYIBvKhmzEisQCZYGdvVISCjsbKSsLC1JEiQ02yIJ/AAllwcZOiZQfq/e859zXoxnvPPOd532/n9X3du7MHN+O033uvTMx59yHIxAy0An8z9B8IJnoBJJJfn6+6JmZGRMbGhoSXVNTI/rs7Cz8xAJg5QOh+UBoPpBI93zd451zbm1tTXRzc7OJbW5uir69vQ03sThh5QOh+UAi3XY6OzvNWLeaw8NDE5ucnBT99PQUal7xwsoHQvOB0HwgMRfhXc3Ly0szLisrE93Q0GBiJycnKckpEVj5QGg+kMgtNaurq0VXVFSY2Pv7u+jr6+uU5fRTWPlAaD6QyLWdxsZG0brNOOfcx0e0Fm6sfCA0HwjNBxK5nn9zc4NOIWmw8oHQfCCR3lh7e3szY73ULCkpMbGHh4eU5JQIrHwgNB8IzQcSuaVma2srOoWkwcoHQvOBRK7tPD8/i87IsLWjdzl7enpMbH5+PtzEfgArHwjNBxJ626mvrxe9s7NjYoWFhaKvrq5Eb21tmXlLS0ui9XUR/0qgvi6ir5GkK6x8IDQfCM0HkvRdzYKCAjM+Pz8XXVxcbD88FhMd7+H3/f39l693zu5k+ruY/i5nOsDKB0LzgSR9qZmVlWXGfqvRlJaWin55eRE9MDBg5rW3t4vW1wXz8vLMPN26ioqKTKytrU309vZ2YE6phJUPhOYDoflAQl9qXlxciPb7sN5u6OjoiOv9y8vLRa+srJhYbW1t4Os2NjZEDw4OikZ+M5GVD4TmAwn93s74+LjoiYkJE3t9fRW9u7srure318zTByianJwcM25paRG9uroaOHd6ejowp1TCygdC84Gk9Lrg1NSUGY+OjorWT6cLCwtm3tjYmOjHx8e4Pktv6Dn355fnftHV1WXG/kFOmLDygdB8IDQfCPSKeH9/v+jFxcXAefv7+6K7u7tFf9f/+/r6zFgfwmvu7u7MuK6uTnTY18pZ+UBoPhBo28nM/H2Wo//d9/b2zLzc3FzRR0dHov2l6/Hxsejs7GwT0788qJ+E/XPgkZER0bOzs9//AX8JKx8IzQeSll+I0ysa55ybm5sTrc8E/JZxcHAg2j87rqys/PKz/PdYX18X7d90TjasfCA0HwjNB5KWPd9HXzPXT65NTU1mXlVVVeB7DA8Pi9ZXDv1fIVxeXhZ9enqaeLIJwMoHQvOBRKLt/Kuw8oHQfCA0HwjNB0LzgdB8IDQfCM0HQvOB0HwgNB8IzQdC84HQfCA0HwjNB0LzgdB8IDQfCM0HQvOB0HwgNB/IJ2Bm2/py/1KJAAAAAElFTkSuQmCC\" y=\"-6.776271\"/>\n   </g>\n   <g id=\"patch_43\">\n    <path d=\"M 464.666102 101.776271 \nL 464.666102 7.2 \n\" style=\"fill:none;stroke:#000000;stroke-linecap:square;stroke-linejoin:miter;stroke-width:0.8;\"/>\n   </g>\n   <g id=\"patch_44\">\n    <path d=\"M 559.242373 101.776271 \nL 559.242373 7.2 \n\" style=\"fill:none;stroke:#000000;stroke-linecap:square;stroke-linejoin:miter;stroke-width:0.8;\"/>\n   </g>\n   <g id=\"patch_45\">\n    <path d=\"M 464.666102 101.776271 \nL 559.242373 101.776271 \n\" style=\"fill:none;stroke:#000000;stroke-linecap:square;stroke-linejoin:miter;stroke-width:0.8;\"/>\n   </g>\n   <g id=\"patch_46\">\n    <path d=\"M 464.666102 7.2 \nL 559.242373 7.2 \n\" style=\"fill:none;stroke:#000000;stroke-linecap:square;stroke-linejoin:miter;stroke-width:0.8;\"/>\n   </g>\n  </g>\n  <g id=\"axes_10\">\n   <g id=\"patch_47\">\n    <path d=\"M 464.666102 220.379908 \nL 559.242373 220.379908 \nL 559.242373 125.803636 \nL 464.666102 125.803636 \nz\n\" style=\"fill:#ffffff;\"/>\n   </g>\n   <g clip-path=\"url(#p8b137c6019)\">\n    <image height=\"95\" id=\"image187af0e9d7\" transform=\"scale(1 -1)translate(0 -95)\" width=\"95\" x=\"464.666102\" xlink:href=\"data:image/png;base64,\niVBORw0KGgoAAAANSUhEUgAAAF8AAABfCAYAAACOTBv1AAAABHNCSVQICAgIfAhkiAAAAXhJREFUeJzt3EtygkAUQFFIZQXuf41uwUxNqpLyA5zucM/MkeTWSyMNui7LcltCfOgDOLPiQ5/6AJ51uz22Sq7ruvORvK/Jh4oPFR+abs1/1M9zw4jngCYfKj5UfKj4UPGh4kPFh4oPFR+a4gr30Z3M2TT5UPGhdZnsHu4WS9Aom2xNPlR8qPhQ8aHiQ8WHig8VHyo+VHyo+FDxoeJDh+5qjnhTRO5wNvlQ8aHNl50Rl5Zn/LUM/fa3vbp0NflQ8aHiQ1M8t3OkI89ZTT5UfKj4UPGh4kPFhzb/qHm9Xr+9vlwuW7/Fro7c5WzyoeJDu99MmW2Xs2XnJIoP7b6xdv9vPNsStLcmHyo+VHyo+FDxoeJD9EvQo3/03Ptqt8mHig/RR0fOfvXb5EPFh4oPDfO44BnX/yYfKj40zLJz75Vvh8yoyYeKDxUfmu6nHf+TJh8qPlR8qPhQ8aHiQ8WHig8VHyo+VHyo+FDxoeJDxYeKDxUfKj5UfOgLbDk0wJtc7+kAAAAASUVORK5CYII=\" y=\"-125.379908\"/>\n   </g>\n   <g id=\"patch_48\">\n    <path d=\"M 464.666102 220.379908 \nL 464.666102 125.803636 \n\" style=\"fill:none;stroke:#000000;stroke-linecap:square;stroke-linejoin:miter;stroke-width:0.8;\"/>\n   </g>\n   <g id=\"patch_49\">\n    <path d=\"M 559.242373 220.379908 \nL 559.242373 125.803636 \n\" style=\"fill:none;stroke:#000000;stroke-linecap:square;stroke-linejoin:miter;stroke-width:0.8;\"/>\n   </g>\n   <g id=\"patch_50\">\n    <path d=\"M 464.666102 220.379908 \nL 559.242373 220.379908 \n\" style=\"fill:none;stroke:#000000;stroke-linecap:square;stroke-linejoin:miter;stroke-width:0.8;\"/>\n   </g>\n   <g id=\"patch_51\">\n    <path d=\"M 464.666102 125.803636 \nL 559.242373 125.803636 \n\" style=\"fill:none;stroke:#000000;stroke-linecap:square;stroke-linejoin:miter;stroke-width:0.8;\"/>\n   </g>\n  </g>\n  <g id=\"axes_11\">\n   <g id=\"patch_52\">\n    <path d=\"M 578.157627 101.776271 \nL 672.733898 101.776271 \nL 672.733898 7.2 \nL 578.157627 7.2 \nz\n\" style=\"fill:#ffffff;\"/>\n   </g>\n   <g clip-path=\"url(#p88b7f391e7)\">\n    <image height=\"95\" id=\"image07b8f81a9a\" transform=\"scale(1 -1)translate(0 -95)\" width=\"95\" x=\"578.157627\" xlink:href=\"data:image/png;base64,\niVBORw0KGgoAAAANSUhEUgAAAF8AAABfCAYAAACOTBv1AAAABHNCSVQICAgIfAhkiAAABG5JREFUeJztnEsodV0Yx9fhpVwHyoARMUAMSLmMKOVWLiMhyUSZiCIGyqUkBkpkIkyVXEYUouQyMGDGgBJFLkUJEb5v9rxr7c4+7/lO+/gf3/v/jf7rPM/ZZ/Xv6Tn7rL3WcSml/lEEQhB6An8zNB8IzQdC84HQfCA0HwjNB0LzgdB8IDQfCM0HQvOB0HwgNB8IzQdC84H8cuIiUVFRoquqqoxYVlaW6NvbWyM2MzMj+uHhQfT7+7sT0wp4WPlAaD4Ql3LgGe7h4aHojIwMn66xsrIient724gtLy+LPj8/F/3x8eHTZwUKrHwgNB8IzQfiSM+/vr4WHRsba8Te3t5En5ycGLGIiAjRycnJXn1WX1+f6KGhISP2+fnp1TUCBVY+EJoPxJG209LSInp8fNyIvby8iG5ubjZia2tronNyckQ3NTUZeaWlpaLDwsJEDwwMGHmzs7OiLy8vvZq7J2pra41xXV2d27z29nZjfHp66tX1WflAaD4Qmg/EkZ4fHBwsenBw0Ih1dHSIfn5+NmLd3d2i5+bmROsrnEoplZ2dLXpiYsLt60qZvVb/HlJKqa2tLdHR0dGi8/Pzjbz6+nrRFRUVRky/Ndaxfr8kJia6zbPCygdC84E40nZ0QkJCjLF+O9jZ2Wn7vtXVVdENDQ1G7PHxUbT+C1pfCVXKfHBjfSAzMjIiOj09XXRlZaXtnDY2Nozx8PCwaGtr1Dk6OrKN6bDygdB8II63HSuhoaGiS0pKjNji4qLb9/T39xvjzc1N0bu7u6JjYmJs8/TW8l/Q73b0hzhKmYuETsDKB0LzgdB8IH7v+TrW29DMzEzRCwsLouPi4oy819dX0fpt5/7+vpGnf6eEh4fbzuPu7k706OioERsbGxPt7/1DrHwgNB/It7YdT+htIi0tzYj19vaKLisrs71GUNDvWvr6+rLNu7q6El1QUGDEzs7O/jhXp2DlA6H5QGg+kIDp+d7S2toq2u7hhjuqq6tF66ufe3t7Rl5hYaFof+8DYuUDoflAflzb8ZXp6WnRjY2Ntnn6refOzo4/p8TKR0LzgThyIM5X4uPjRetbCfVthEqZW0Ksh+q8RV+E89R2vhNWPhCaD4TmA4H2/KmpKdHFxcWie3p6jDz9BOLBwYHorq4uI+/i4sL2s25ubnydpt9g5QOh+UCgbWd+fl603nasJCQkuNX6AplSShUVFYm27hw+Pj72cZb+g5UPhOYDgbadpaUl0bm5uaJramqMPP0vZXSSkpKM8fr6umhPbSxQYOUDoflAaD6QgHyYkpKSYozb2tpE61u49QPRSinlcrlEW281n56eRKempoq+v7838vSHKdb/inAaVj4Qmg8kINuOJ/RfuNaFtby8PNHenkyZnJw0xvrWFH/DygdC84HQfCA/rud7Ql+GiIyMNGLl5eWi9YPU1pMpTp849AQrHwjNB/K/ajs/DVY+EJoPhOYDoflAaD4Qmg+E5gOh+UBoPhCaD4TmA6H5QGg+EJoPhOYDoflA/gVP2xKDJPyqxQAAAABJRU5ErkJggg==\" y=\"-6.776271\"/>\n   </g>\n   <g id=\"patch_53\">\n    <path d=\"M 578.157627 101.776271 \nL 578.157627 7.2 \n\" style=\"fill:none;stroke:#000000;stroke-linecap:square;stroke-linejoin:miter;stroke-width:0.8;\"/>\n   </g>\n   <g id=\"patch_54\">\n    <path d=\"M 672.733898 101.776271 \nL 672.733898 7.2 \n\" style=\"fill:none;stroke:#000000;stroke-linecap:square;stroke-linejoin:miter;stroke-width:0.8;\"/>\n   </g>\n   <g id=\"patch_55\">\n    <path d=\"M 578.157627 101.776271 \nL 672.733898 101.776271 \n\" style=\"fill:none;stroke:#000000;stroke-linecap:square;stroke-linejoin:miter;stroke-width:0.8;\"/>\n   </g>\n   <g id=\"patch_56\">\n    <path d=\"M 578.157627 7.2 \nL 672.733898 7.2 \n\" style=\"fill:none;stroke:#000000;stroke-linecap:square;stroke-linejoin:miter;stroke-width:0.8;\"/>\n   </g>\n  </g>\n  <g id=\"axes_12\">\n   <g id=\"patch_57\">\n    <path d=\"M 578.157627 220.379908 \nL 672.733898 220.379908 \nL 672.733898 125.803636 \nL 578.157627 125.803636 \nz\n\" style=\"fill:#ffffff;\"/>\n   </g>\n   <g clip-path=\"url(#p00a91bad15)\">\n    <image height=\"95\" id=\"image9bed03777b\" transform=\"scale(1 -1)translate(0 -95)\" width=\"95\" x=\"578.157627\" xlink:href=\"data:image/png;base64,\niVBORw0KGgoAAAANSUhEUgAAAF8AAABfCAYAAACOTBv1AAAABHNCSVQICAgIfAhkiAAAAYRJREFUeJzt3MFNAlEUQNEZYwV0QP9N0QA14M4gCQR/PlwGzlnpBic3jycOH9dlWU4Lia/6Aj6Z+CHxQ+KHxA+JHxI/JH5I/JD4IfFD4ofED33PfsDTaewm6bquk6/k9Zn8kPihdZnwZsroqrlmv9//+f5wOEx9/HPlmjT5IfFDL7l27jXjqT/j2kevw+SHxA+JHxre+dWe34J7fweY/JD4oeEba+dPLStojMkPiR8SPyR+SPyQ+CHxQ+KHxA+JHxI/JH5I/NCU44LucI4x+SHxQ1PO7dzyCWvIuZ0NEj8kfujhO//c1vb/oz8tY/JD4oemfyDulsun8dbW0GwmPyR+yF+4/zD71Y/JD4kfEj8kfkj8kPgh8UPih8QPPfzGmmMl15n8kPgh8UPeTAmZ/JD4oaeunUuf/jLU5IfED4kfeupxwVG73e736+Px+LSf67jgGxM/tIm1c6/yv8OOMPkh8UNvtXa2xuSHxA+JHxI/JH5I/JD4IfFD4ofED4kfEj8kfugHPWZAubupmIkAAAAASUVORK5CYII=\" y=\"-125.379908\"/>\n   </g>\n   <g id=\"patch_58\">\n    <path d=\"M 578.157627 220.379908 \nL 578.157627 125.803636 \n\" style=\"fill:none;stroke:#000000;stroke-linecap:square;stroke-linejoin:miter;stroke-width:0.8;\"/>\n   </g>\n   <g id=\"patch_59\">\n    <path d=\"M 672.733898 220.379908 \nL 672.733898 125.803636 \n\" style=\"fill:none;stroke:#000000;stroke-linecap:square;stroke-linejoin:miter;stroke-width:0.8;\"/>\n   </g>\n   <g id=\"patch_60\">\n    <path d=\"M 578.157627 220.379908 \nL 672.733898 220.379908 \n\" style=\"fill:none;stroke:#000000;stroke-linecap:square;stroke-linejoin:miter;stroke-width:0.8;\"/>\n   </g>\n   <g id=\"patch_61\">\n    <path d=\"M 578.157627 125.803636 \nL 672.733898 125.803636 \n\" style=\"fill:none;stroke:#000000;stroke-linecap:square;stroke-linejoin:miter;stroke-width:0.8;\"/>\n   </g>\n  </g>\n  <g id=\"axes_13\">\n   <g id=\"patch_62\">\n    <path d=\"M 691.649153 101.776271 \nL 786.225424 101.776271 \nL 786.225424 7.2 \nL 691.649153 7.2 \nz\n\" style=\"fill:#ffffff;\"/>\n   </g>\n   <g clip-path=\"url(#p5c7c486064)\">\n    <image height=\"95\" id=\"image3057a6a1f1\" transform=\"scale(1 -1)translate(0 -95)\" width=\"95\" x=\"691.649153\" xlink:href=\"data:image/png;base64,\niVBORw0KGgoAAAANSUhEUgAAAF8AAABfCAYAAACOTBv1AAAABHNCSVQICAgIfAhkiAAAAkFJREFUeJzt3D+uAVEUx/EZeZ1aoyEK8SexBGtR6diBxBbsQatiBVqVREQjwQpUOrzuZq6EJ8+M7z38PtW5QXLyy8nJmDBxFEXXSBA5uoFvpvBBCh+k8EEKH6TwQQofpPBBCh+k8EEKH6TwQQof9EM38IpSqeSdZ7OZq+v1uvdaHMeurlarrt5utxl19zdNPkjhg0yvnUaj4Z1vV03oNPkghQ8yvXa63S7dwks0+SCFD1L4INM7v9lseufkt9hbuVx4cxZeR19E4YPMrZ1er+fqSqXivXa93v/l42g0cjV5My1Jkw9S+CCFDzK382u1Gt1CajT5IIUPiiNj/0w5n8+ufnRpeavVarl6vV6n2tN/afJBCh9k7moneYPscrncfd9kMvHOoayaJE0+SOGDFD7I3M5P7vlHl5rz+fwd7bxEkw9S+CCFD1L4IIUPUvgghQ9S+CCFDzL3DffZu5oWaPJBCh9kbu08e2PNAk0+SOGDFD7IxM4fDAZ0C5nQ5IMUPijItVMsFr1zp9N56nPD4dDV0+k0xY6yockHKXxQkGvndDp558Ph4OpyuXz3c4vFwtX7/T71vtKmyQcpfJDCBwW584/Ho3deLpeubrfb724nM5p8kMIHBbl28vm8d759eOmn0OSDFD5I4YOC3PmFQsE7f9LlZZImH6TwQUGund1u553H47Gr+/2+q1erlfe+zWaTaV9p0+SDFD7I3CNfPokmH6TwQQofpPBBCh+k8EEKH6TwQQofpPBBCh+k8EEKH/QLG51bceXF9qcAAAAASUVORK5CYII=\" y=\"-6.776271\"/>\n   </g>\n   <g id=\"patch_63\">\n    <path d=\"M 691.649153 101.776271 \nL 691.649153 7.2 \n\" style=\"fill:none;stroke:#000000;stroke-linecap:square;stroke-linejoin:miter;stroke-width:0.8;\"/>\n   </g>\n   <g id=\"patch_64\">\n    <path d=\"M 786.225424 101.776271 \nL 786.225424 7.2 \n\" style=\"fill:none;stroke:#000000;stroke-linecap:square;stroke-linejoin:miter;stroke-width:0.8;\"/>\n   </g>\n   <g id=\"patch_65\">\n    <path d=\"M 691.649153 101.776271 \nL 786.225424 101.776271 \n\" style=\"fill:none;stroke:#000000;stroke-linecap:square;stroke-linejoin:miter;stroke-width:0.8;\"/>\n   </g>\n   <g id=\"patch_66\">\n    <path d=\"M 691.649153 7.2 \nL 786.225424 7.2 \n\" style=\"fill:none;stroke:#000000;stroke-linecap:square;stroke-linejoin:miter;stroke-width:0.8;\"/>\n   </g>\n  </g>\n  <g id=\"axes_14\">\n   <g id=\"patch_67\">\n    <path d=\"M 691.649153 220.379908 \nL 786.225424 220.379908 \nL 786.225424 125.803636 \nL 691.649153 125.803636 \nz\n\" style=\"fill:#ffffff;\"/>\n   </g>\n   <g clip-path=\"url(#pd274bf4ec2)\">\n    <image height=\"95\" id=\"image891c75d9a5\" transform=\"scale(1 -1)translate(0 -95)\" width=\"95\" x=\"691.649153\" xlink:href=\"data:image/png;base64,\niVBORw0KGgoAAAANSUhEUgAAAF8AAABfCAYAAACOTBv1AAAABHNCSVQICAgIfAhkiAAAAV5JREFUeJzt3EtqxDAQQEE75P5XdrZiYIIXTkrSvDqBeTSN5Pmcx3FcR4gv/QCfrPhQ8aHiQ8WHig8VHyo+VHzoWz/AX7mu9xf38zz/8Unea/Kh4kPFh85j4beav+31u+T+b/Kh4kPLHTWfWDWzaPKh4kPFh4oPFR8qPrTEUXOn4+WoyYeKDy2xdp7WhykpvlR8aImdP+7onY6dTT5UfKj4UPGh4kNLnHaeMMutdtTkQ8WHig8tsfN3utWOmnyo+FDxoeJDxYeKDxUfKj5UfGjKG+6uN9pXTT5UfKj4UPGh4kPFh6Y5an7K8XLU5EPFh+ja+cRVM2ryoeJDdO3s+qOHu5p8qPhQ8aFpbrhPm/Er4a+afKj4UPGh4kPFh4oPTXPUHF8vrHBMfEKTDxUfWuL/8+++8VxtXTX5UPGhJdbOrpp8qPhQ8aHiQ8WHig8VHyo+VHyo+FDxoeJDxYd+AEheKMj4yhx/AAAAAElFTkSuQmCC\" y=\"-125.379908\"/>\n   </g>\n   <g id=\"patch_68\">\n    <path d=\"M 691.649153 220.379908 \nL 691.649153 125.803636 \n\" style=\"fill:none;stroke:#000000;stroke-linecap:square;stroke-linejoin:miter;stroke-width:0.8;\"/>\n   </g>\n   <g id=\"patch_69\">\n    <path d=\"M 786.225424 220.379908 \nL 786.225424 125.803636 \n\" style=\"fill:none;stroke:#000000;stroke-linecap:square;stroke-linejoin:miter;stroke-width:0.8;\"/>\n   </g>\n   <g id=\"patch_70\">\n    <path d=\"M 691.649153 220.379908 \nL 786.225424 220.379908 \n\" style=\"fill:none;stroke:#000000;stroke-linecap:square;stroke-linejoin:miter;stroke-width:0.8;\"/>\n   </g>\n   <g id=\"patch_71\">\n    <path d=\"M 691.649153 125.803636 \nL 786.225424 125.803636 \n\" style=\"fill:none;stroke:#000000;stroke-linecap:square;stroke-linejoin:miter;stroke-width:0.8;\"/>\n   </g>\n  </g>\n  <g id=\"axes_15\">\n   <g id=\"patch_72\">\n    <path d=\"M 805.140678 101.776271 \nL 899.716949 101.776271 \nL 899.716949 7.2 \nL 805.140678 7.2 \nz\n\" style=\"fill:#ffffff;\"/>\n   </g>\n   <g clip-path=\"url(#p5668bdc7d0)\">\n    <image height=\"95\" id=\"imagefe7bd57e73\" transform=\"scale(1 -1)translate(0 -95)\" width=\"95\" x=\"805.140678\" xlink:href=\"data:image/png;base64,\niVBORw0KGgoAAAANSUhEUgAAAF8AAABfCAYAAACOTBv1AAAABHNCSVQICAgIfAhkiAAAA/VJREFUeJztnU8odGEUxu+IGGXBQpH8iawsZGEhfzZYWNgphShZiiXZyV5SlJKSZKNGQrKwwF6xsbBigUSR/zEW39f53nMz89259zXPfJ/nt3rezp33np6O0517z1whx3GiDoGQhk7gJ0PzgdB8IDQfCM0HQvOB0HwgNB8IzQeSbnvDzMxMte7r6xM9MTGhYrm5uaIjkYjonZ0dddza2proi4sLG2mmBKx8IDQfCM0HEnIs3NWsrq4WPTg4qGK9vb1Bt3dOT09FPz4+it7b21PHzc3NiT4+Pg583u+GlQ+E5gOx0nYODw9FV1VVBd3OM6FQSK0vLy9Fr6+vq9jQ0JDo5+fn703MI6x8IDQfiPVvuPGYnZ1V6/v7+4T3aGlpEV1TU6Ni+fn5ovv7+1WsvLz8yzxWV1cTzsEWrHwgNB8IzQdi5VKzvr5e9NjYmIqZPbqsrEzFzs7OEj5XXl6e6La2NhWbnp4WnZOTE3OPp6cn0e3t7Sq2u7ubcE5+YeUDoflArFxq7u/vi3b/Gbe2toq+vr4OfK6bmxvRS0tLKpaRkSF6ampKxbKzs0WHw2HRWVlZgXPyCysfCM0HQvOBWL+98Pb2ptYbGxu2TxGThYUF0Q8PDyq2vLyctDy8wsoHQvOBJPWuZjLZ3t5Gp/BXWPlAaD4QaNspKSkR3d3dLdrdMvw8c3U/TElFWPlAaD4Qmg8kqT3fPdNjztYUFxeLHh8f97RfWpqunY+PjwDZJR9WPhCaDwR6qRmNRr/UXnG3Ga97mDf7tra2Ej6vLVj5QGg+EJoPxMrcjl9KS0tF9/T0iG5ubvb0eXNeyHG89/y7uzvRIyMjKra5uSn6/Pzc035+YeUDoflAoG0nKF1dXWpttpCKigoVM2d64mH+yqahoUHFzDFDG7DygdB8IP9024lHZ2enWg8MDIhuamrytIc5Ee04+irJBqx8IDQfCM0H8t/O7aysrKj1+/u76NraWtHmuLgb90Od4eFhS9n9gpUPhOYDgbad9PQ/py8oKIh5nDn57Pc1X+Ys0O3treh4baeoqEitzVeYvby8+MrDhJUPhOYDgX7DNd9KNTk5GfO4q6sr0fPz86ITGR2pq6sT7fUbrhvzcwcHB772MGHlA6H5QGg+EOilpvlehniY79EZHR0V7X7Nl5/ZHySsfCA0Hwi07Zgt5OTkRHRHR4c6zrykLCws/P7EfrO4uKjWR0dHVvdn5QOh+UBoPpCUfIBeWVmp1ubMTWNjo+iZmRl1nI1fppj/KMH9EP719TXw/iasfCA0H0hKtp2fAisfCM0HQvOB0HwgNB8IzQdC84HQfCA0HwjNB0LzgdB8IDQfCM0HQvOB0Hwgn6PP5lDpgezzAAAAAElFTkSuQmCC\" y=\"-6.776271\"/>\n   </g>\n   <g id=\"patch_73\">\n    <path d=\"M 805.140678 101.776271 \nL 805.140678 7.2 \n\" style=\"fill:none;stroke:#000000;stroke-linecap:square;stroke-linejoin:miter;stroke-width:0.8;\"/>\n   </g>\n   <g id=\"patch_74\">\n    <path d=\"M 899.716949 101.776271 \nL 899.716949 7.2 \n\" style=\"fill:none;stroke:#000000;stroke-linecap:square;stroke-linejoin:miter;stroke-width:0.8;\"/>\n   </g>\n   <g id=\"patch_75\">\n    <path d=\"M 805.140678 101.776271 \nL 899.716949 101.776271 \n\" style=\"fill:none;stroke:#000000;stroke-linecap:square;stroke-linejoin:miter;stroke-width:0.8;\"/>\n   </g>\n   <g id=\"patch_76\">\n    <path d=\"M 805.140678 7.2 \nL 899.716949 7.2 \n\" style=\"fill:none;stroke:#000000;stroke-linecap:square;stroke-linejoin:miter;stroke-width:0.8;\"/>\n   </g>\n  </g>\n  <g id=\"axes_16\">\n   <g id=\"patch_77\">\n    <path d=\"M 805.140678 220.379908 \nL 899.716949 220.379908 \nL 899.716949 125.803636 \nL 805.140678 125.803636 \nz\n\" style=\"fill:#ffffff;\"/>\n   </g>\n   <g clip-path=\"url(#pd954ffba65)\">\n    <image height=\"95\" id=\"imageec06e72ceb\" transform=\"scale(1 -1)translate(0 -95)\" width=\"95\" x=\"805.140678\" xlink:href=\"data:image/png;base64,\niVBORw0KGgoAAAANSUhEUgAAAF8AAABfCAYAAACOTBv1AAAABHNCSVQICAgIfAhkiAAAAYVJREFUeJzt3MGOwiAUQFEw7vv/v9kfqDtTm9RUfHCB3rOa2TiTG3ylxZhTSlsS4kH/A3dmfJDxQcYHGR9kfJDxQcYHGR/0jH7BbeNumHPO2N8u4coHGR9kfFBOhU81ydn+r16uDa58kPFB4VvNEXwbmS1HkisfZHzQ5d3OyLubUrVHkCsfZHyQ8UG3vMMtFX0NcOWDjA/q8g53XdeP35dlef8807hz5YOMDzI+qHiruRc9h69u6VrPf7eaEzE+KGTs7NUYBWdv99pjx6eaEzM+KHzsfDPC3alnuDdhfJDxQcYHGR9kfJDxQcYHGR9kfJDxQcYHGR9kfJDxQcYHNT1MOer9cMUz3IkZH2R8kAfoP/DjghMxPqj62Bl91JyJGEGufJDxQe52ApSOIFc+yPgg44OMDzI+yPigpt+9cNySzbr1vMqVDzI+yPgg9AB9b7T571PNwRkf1M3YKeFXvqiY8UFDj53RufJBxgcZH2R8kPFBxgcZH2R8kPFBxgcZH2R8kPFBL5sLR6vWfGvXAAAAAElFTkSuQmCC\" y=\"-125.379908\"/>\n   </g>\n   <g id=\"patch_78\">\n    <path d=\"M 805.140678 220.379908 \nL 805.140678 125.803636 \n\" style=\"fill:none;stroke:#000000;stroke-linecap:square;stroke-linejoin:miter;stroke-width:0.8;\"/>\n   </g>\n   <g id=\"patch_79\">\n    <path d=\"M 899.716949 220.379908 \nL 899.716949 125.803636 \n\" style=\"fill:none;stroke:#000000;stroke-linecap:square;stroke-linejoin:miter;stroke-width:0.8;\"/>\n   </g>\n   <g id=\"patch_80\">\n    <path d=\"M 805.140678 220.379908 \nL 899.716949 220.379908 \n\" style=\"fill:none;stroke:#000000;stroke-linecap:square;stroke-linejoin:miter;stroke-width:0.8;\"/>\n   </g>\n   <g id=\"patch_81\">\n    <path d=\"M 805.140678 125.803636 \nL 899.716949 125.803636 \n\" style=\"fill:none;stroke:#000000;stroke-linecap:square;stroke-linejoin:miter;stroke-width:0.8;\"/>\n   </g>\n  </g>\n  <g id=\"axes_17\">\n   <g id=\"patch_82\">\n    <path d=\"M 918.632203 101.776271 \nL 1013.208475 101.776271 \nL 1013.208475 7.2 \nL 918.632203 7.2 \nz\n\" style=\"fill:#ffffff;\"/>\n   </g>\n   <g clip-path=\"url(#pe2493d7ce4)\">\n    <image height=\"95\" id=\"image32b1cd42bc\" transform=\"scale(1 -1)translate(0 -95)\" width=\"95\" x=\"918.632203\" xlink:href=\"data:image/png;base64,\niVBORw0KGgoAAAANSUhEUgAAAF8AAABfCAYAAACOTBv1AAAABHNCSVQICAgIfAhkiAAAAitJREFUeJzt3DGuKVEcgPEzLyJRYQNqFkFiA+xDYRlqpSWIjnWoRaPQaRRUROF182ZuwjPvynzOfd+vOhO3OPnyzz9TcJMQwj0I8Yu+wP/M+CDjg4wPMj7I+CDjg4wPMj6oQl/gO+bzee650+mk58FgkPtsv9+XcqcinHyQ8UHGB0W983u9Xu652Wym51qtVvZ1CnPyQcYHRb12FotF7nk8Hqfn7GtnCCFst9tS7lSEkw8yPijqtfPV+XxOz8vlErzJa5x8kPFBxgf9qJ2fJEl6rlaruc8ul0vZ1/krJx9kfFASIv664GazyT232+30PJvNcp+NRqNS7lSEkw8yPsj4oOheNYfDYXrO7vgQ8q+T0+m0tDv9KycfZHxQdGunUnl85fv9z1vz9Xot4zrf4uSDjA+Kbu20Wq2Hn91ut/T8iV8P/MrJBxkfZHxQdDu/3+/TV3gbJx9kfFB0a+eZ1WpFX6EQJx9kfJDxQT9q5x+PR/oKhTj5IOODjA8yPsj4oCjedhqNRnrudrvgTd7LyQcZH2R8UBQ7P/tdnXq9/vDvdrtdGdd5GycfZHxQFGvnVev1mr5CIU4+yPigqNdO9ne3IXzmb22fcfJBxgcZHxT1zs/+EiVGTj7I+KCo187hcHj6/OmcfJDxQcYHRbHzT6dTes7+MmUymeT+zp2vlxkfFPW/+Yqdkw8yPsj4IOODjA8yPsj4IOODjA8yPsj4IOODjA8yPsj4IOODfgNlsU/oTtXoawAAAABJRU5ErkJggg==\" y=\"-6.776271\"/>\n   </g>\n   <g id=\"patch_83\">\n    <path d=\"M 918.632203 101.776271 \nL 918.632203 7.2 \n\" style=\"fill:none;stroke:#000000;stroke-linecap:square;stroke-linejoin:miter;stroke-width:0.8;\"/>\n   </g>\n   <g id=\"patch_84\">\n    <path d=\"M 1013.208475 101.776271 \nL 1013.208475 7.2 \n\" style=\"fill:none;stroke:#000000;stroke-linecap:square;stroke-linejoin:miter;stroke-width:0.8;\"/>\n   </g>\n   <g id=\"patch_85\">\n    <path d=\"M 918.632203 101.776271 \nL 1013.208475 101.776271 \n\" style=\"fill:none;stroke:#000000;stroke-linecap:square;stroke-linejoin:miter;stroke-width:0.8;\"/>\n   </g>\n   <g id=\"patch_86\">\n    <path d=\"M 918.632203 7.2 \nL 1013.208475 7.2 \n\" style=\"fill:none;stroke:#000000;stroke-linecap:square;stroke-linejoin:miter;stroke-width:0.8;\"/>\n   </g>\n  </g>\n  <g id=\"axes_18\">\n   <g id=\"patch_87\">\n    <path d=\"M 918.632203 220.379908 \nL 1013.208475 220.379908 \nL 1013.208475 125.803636 \nL 918.632203 125.803636 \nz\n\" style=\"fill:#ffffff;\"/>\n   </g>\n   <g clip-path=\"url(#p0b1524e0df)\">\n    <image height=\"95\" id=\"imagee867c92c9d\" transform=\"scale(1 -1)translate(0 -95)\" width=\"95\" x=\"918.632203\" xlink:href=\"data:image/png;base64,\niVBORw0KGgoAAAANSUhEUgAAAF8AAABfCAYAAACOTBv1AAAABHNCSVQICAgIfAhkiAAAAT1JREFUeJzt3UFuwjAUQEEb9f5XDtsoq0JBY6dvThA9fRnHCTDHGMcI8dAX8J8VHyo+VHyo+FDxoeJDxYeKD/3oC/iL4/j9zfmc84tX8p4mHyo+VHxo6zX/FefPh1XW/yYfKj603bLzyvZydU0+VHyo+FDxoeJDxYeKDxUfKj603R3uu1Y5TDtr8qHiQ8WHig8VHyo+VHyo+FDxoeJDxYeKDxUf2uJU807v6pw1+VDxoeJDxYeKDxUfKj5UfKj4UPGh4kPFh4oPFR8qPlR8aMmHKXd9eHLV5EPFh4oPFR8qPrTkbuf65bW77n6afKj4UPGh4kPFh4oPLbnV/IQVf2vhqsmHig8VH9pizT+v33c6amjyoeJDc/SvoEyTDxUfKj5UfKj4UPGh4kPFh4oPFR8qPlR8qPhQ8aHiQ8WHnjmKF8pmuGevAAAAAElFTkSuQmCC\" y=\"-125.379908\"/>\n   </g>\n   <g id=\"patch_88\">\n    <path d=\"M 918.632203 220.379908 \nL 918.632203 125.803636 \n\" style=\"fill:none;stroke:#000000;stroke-linecap:square;stroke-linejoin:miter;stroke-width:0.8;\"/>\n   </g>\n   <g id=\"patch_89\">\n    <path d=\"M 1013.208475 220.379908 \nL 1013.208475 125.803636 \n\" style=\"fill:none;stroke:#000000;stroke-linecap:square;stroke-linejoin:miter;stroke-width:0.8;\"/>\n   </g>\n   <g id=\"patch_90\">\n    <path d=\"M 918.632203 220.379908 \nL 1013.208475 220.379908 \n\" style=\"fill:none;stroke:#000000;stroke-linecap:square;stroke-linejoin:miter;stroke-width:0.8;\"/>\n   </g>\n   <g id=\"patch_91\">\n    <path d=\"M 918.632203 125.803636 \nL 1013.208475 125.803636 \n\" style=\"fill:none;stroke:#000000;stroke-linecap:square;stroke-linejoin:miter;stroke-width:0.8;\"/>\n   </g>\n  </g>\n  <g id=\"axes_19\">\n   <g id=\"patch_92\">\n    <path d=\"M 1032.123729 101.776271 \nL 1126.7 101.776271 \nL 1126.7 7.2 \nL 1032.123729 7.2 \nz\n\" style=\"fill:#ffffff;\"/>\n   </g>\n   <g clip-path=\"url(#p0cd5117847)\">\n    <image height=\"95\" id=\"imagee0e9950d62\" transform=\"scale(1 -1)translate(0 -95)\" width=\"95\" x=\"1032.123729\" xlink:href=\"data:image/png;base64,\niVBORw0KGgoAAAANSUhEUgAAAF8AAABfCAYAAACOTBv1AAAABHNCSVQICAgIfAhkiAAABAhJREFUeJztnE0obVEYhtdBKZIyk5CUgSQGkhIiZWaESAoTMZAyIAMDPzMmRooYiDLwM/c/IhJlYMBAJCU/GSniju5317e757TPuXt79+m+z+hdfcva67x9fdZea50TMsZ8GwIhAT2B/xmaD4TmA6H5QGg+EJoPhOYDoflAaD4Qmg+E5gOh+UBoPpAk9AR+Mzw8LHpsbEzFmpqaRK+vr//YnPyGmQ+E5gMJTNnp7OwMG2tsbBTNskM8geYDCZmAnOHm5uaK3tnZUbGcnBzRk5OTokdHR/2fmI8w84HQfCA0H0hgar6N/bZrjH7jfXx8FF1WVqb63d3d+Tsxj2HmA6H5QAJZdtLT01V7fHxcdG9vr+jr62vVr6CgwN+JeQwzHwjNB0LzgXhe8/v7+1V7bW1N9O3tbUxjVlVVid7c3BSdlpam+rW1tYm+uLgIO569JH17e4tpTl7AzAdC84F4XnacO5L2bqW9ZDTGmIWFBVdjFhYWip6dnRVdUVGh+oVCIdHf3+E/1vLysuiOjg5Xc/ADZj4Qmg/E87LT0tKi2ktLS6I/Pz9V7PX1VbS9Unl5eVH9pqamRFdXV4d9dqSyY7cfHh5E19TUqH7Ot2Y/YeYDoflAaD4Q33c129vbRS8uLoafiFWvr66uVCw/P/+vf3NycqLaWVlZojMzM1XMPoRxxlAw84HQfCC+l52kpD83Eu0SZIwx8/PzohMS/uTB19eX6nd8fCza3libnp5W/TIyMkRvbGyoWGlpqWh7+dvV1RX5A/gIMx8IzQdC84FAD9CLiopE21e/8/LyVL+ZmRnRAwMDrsYeHBxU7YmJCdGJiYmi+/r6VD9719RvmPlAaD6QwNzbyc7OFm0vLY3R93gaGhpE7+/vux7fLifd3d2i7+/vVT/7OrrfMPOB0HwggSk7Ns7v4Q4NDYm+vLwUXVtbq/rZm2dOUlNTRc/NzYm2v+NrjDFHR0einQctHx8fEWYdPcx8IDQfCM0HEsia7+T09FR0cXGxaHvZaYwxW1tbrsYrKSkRfXBwoGL2/wbnLuzKyoqr8d3CzAdC84EE5rcXIpGSkiLaPut9f3+PabyzszPRNzc3KmZv9sU6vluY+UBoPpC4WO3YX44YGRkR3draqvo9Pz9HPbZzDPvs4OnpScWam5tFn5+fR/0sJ8x8IDQfCM0HEhc1/yfZ29sTXVlZqWK7u7ui6+vr//lZzHwgNB9IXLzh/iSHh4eiy8vLVcxu28vO1dXVmJ7FzAdC84HQfCCs+Q7sw/rk5GQV6+npEV1XVyeaNT8OoflA+IYbBdvb26LtQx3n/SG3MPOB0HwgLDtAmPlAaD4Qmg+E5gOh+UBoPhCaD4TmA6H5QGg+EJoPhOYDoflAfgH0VvBqklpT0AAAAABJRU5ErkJggg==\" y=\"-6.776271\"/>\n   </g>\n   <g id=\"patch_93\">\n    <path d=\"M 1032.123729 101.776271 \nL 1032.123729 7.2 \n\" style=\"fill:none;stroke:#000000;stroke-linecap:square;stroke-linejoin:miter;stroke-width:0.8;\"/>\n   </g>\n   <g id=\"patch_94\">\n    <path d=\"M 1126.7 101.776271 \nL 1126.7 7.2 \n\" style=\"fill:none;stroke:#000000;stroke-linecap:square;stroke-linejoin:miter;stroke-width:0.8;\"/>\n   </g>\n   <g id=\"patch_95\">\n    <path d=\"M 1032.123729 101.776271 \nL 1126.7 101.776271 \n\" style=\"fill:none;stroke:#000000;stroke-linecap:square;stroke-linejoin:miter;stroke-width:0.8;\"/>\n   </g>\n   <g id=\"patch_96\">\n    <path d=\"M 1032.123729 7.2 \nL 1126.7 7.2 \n\" style=\"fill:none;stroke:#000000;stroke-linecap:square;stroke-linejoin:miter;stroke-width:0.8;\"/>\n   </g>\n  </g>\n  <g id=\"axes_20\">\n   <g id=\"patch_97\">\n    <path d=\"M 1032.123729 220.379908 \nL 1126.7 220.379908 \nL 1126.7 125.803636 \nL 1032.123729 125.803636 \nz\n\" style=\"fill:#ffffff;\"/>\n   </g>\n   <g clip-path=\"url(#p4ac3fbd0d4)\">\n    <image height=\"95\" id=\"image232a727608\" transform=\"scale(1 -1)translate(0 -95)\" width=\"95\" x=\"1032.123729\" xlink:href=\"data:image/png;base64,\niVBORw0KGgoAAAANSUhEUgAAAF8AAABfCAYAAACOTBv1AAAABHNCSVQICAgIfAhkiAAAAbVJREFUeJzt3EFuwyAQQFGIejGf3EdzV5UcJKyYgj8T/tu1iyr6Go2xkzSnlI4kxIt+ASszPsj4IOODjA8yPsj4IOODjA/6oV/An+Oo32jnnB98Jc9x8kHGBxkflBP4VPNqz38i+rXAyQcZHzTNUbNFubairSEnH2R8ELp2zmvivyefiJx8kPFBxgeFPmqWzteNCMdOJx9kfFD3B2vbtr39vO/77b8x4tg54xpy8kHGBxkf1OWo2bqja3u4/P23Pnpw8kHGB3U5akZeC+QR1MkHGR/0VQ/WWtx5H7i2XltXl5MPMj7I+KDld37pyWOzkw8yPqjL2ln98zetnHyQ8UHGBw3/Zkq0a8CTTzmdfJDxQcPvcD2G1jn5IOODQn8Pd7TRJx8nH2R8kPFBvplyYfSXrJ18kPFB6FHzbPZjZ6nHCnLyQcYHTbN2rsy+kvy4YEDGBxkfFOIOt/aGzJ1dO+N1w8kHGR8U4qjZw5Nr59N16OSDjA8yPijEUbOH2h4mj6BOPsj4oGXWTg3572WcfJDxQcvc4c7IyQcZH2R8kPFBxgcZH2R8kPFBxgcZH2R8kPFBxgf9AmsBVcKkBsbVAAAAAElFTkSuQmCC\" y=\"-125.379908\"/>\n   </g>\n   <g id=\"patch_98\">\n    <path d=\"M 1032.123729 220.379908 \nL 1032.123729 125.803636 \n\" style=\"fill:none;stroke:#000000;stroke-linecap:square;stroke-linejoin:miter;stroke-width:0.8;\"/>\n   </g>\n   <g id=\"patch_99\">\n    <path d=\"M 1126.7 220.379908 \nL 1126.7 125.803636 \n\" style=\"fill:none;stroke:#000000;stroke-linecap:square;stroke-linejoin:miter;stroke-width:0.8;\"/>\n   </g>\n   <g id=\"patch_100\">\n    <path d=\"M 1032.123729 220.379908 \nL 1126.7 220.379908 \n\" style=\"fill:none;stroke:#000000;stroke-linecap:square;stroke-linejoin:miter;stroke-width:0.8;\"/>\n   </g>\n   <g id=\"patch_101\">\n    <path d=\"M 1032.123729 125.803636 \nL 1126.7 125.803636 \n\" style=\"fill:none;stroke:#000000;stroke-linecap:square;stroke-linejoin:miter;stroke-width:0.8;\"/>\n   </g>\n  </g>\n </g>\n <defs>\n  <clipPath id=\"p80a3aa7561\">\n   <rect height=\"94.576271\" width=\"94.576271\" x=\"10.7\" y=\"7.2\"/>\n  </clipPath>\n  <clipPath id=\"pbb967cbe40\">\n   <rect height=\"94.576271\" width=\"94.576271\" x=\"10.7\" y=\"125.803636\"/>\n  </clipPath>\n  <clipPath id=\"p88ef988dd8\">\n   <rect height=\"94.576271\" width=\"94.576271\" x=\"124.191525\" y=\"7.2\"/>\n  </clipPath>\n  <clipPath id=\"pbcf6ce600f\">\n   <rect height=\"94.576271\" width=\"94.576271\" x=\"124.191525\" y=\"125.803636\"/>\n  </clipPath>\n  <clipPath id=\"p4fa56c0b12\">\n   <rect height=\"94.576271\" width=\"94.576271\" x=\"237.683051\" y=\"7.2\"/>\n  </clipPath>\n  <clipPath id=\"pf5bb4dcac5\">\n   <rect height=\"94.576271\" width=\"94.576271\" x=\"237.683051\" y=\"125.803636\"/>\n  </clipPath>\n  <clipPath id=\"pb8db4661e8\">\n   <rect height=\"94.576271\" width=\"94.576271\" x=\"351.174576\" y=\"7.2\"/>\n  </clipPath>\n  <clipPath id=\"p7a2620a129\">\n   <rect height=\"94.576271\" width=\"94.576271\" x=\"351.174576\" y=\"125.803636\"/>\n  </clipPath>\n  <clipPath id=\"pfb162341d8\">\n   <rect height=\"94.576271\" width=\"94.576271\" x=\"464.666102\" y=\"7.2\"/>\n  </clipPath>\n  <clipPath id=\"p8b137c6019\">\n   <rect height=\"94.576271\" width=\"94.576271\" x=\"464.666102\" y=\"125.803636\"/>\n  </clipPath>\n  <clipPath id=\"p88b7f391e7\">\n   <rect height=\"94.576271\" width=\"94.576271\" x=\"578.157627\" y=\"7.2\"/>\n  </clipPath>\n  <clipPath id=\"p00a91bad15\">\n   <rect height=\"94.576271\" width=\"94.576271\" x=\"578.157627\" y=\"125.803636\"/>\n  </clipPath>\n  <clipPath id=\"p5c7c486064\">\n   <rect height=\"94.576271\" width=\"94.576271\" x=\"691.649153\" y=\"7.2\"/>\n  </clipPath>\n  <clipPath id=\"pd274bf4ec2\">\n   <rect height=\"94.576271\" width=\"94.576271\" x=\"691.649153\" y=\"125.803636\"/>\n  </clipPath>\n  <clipPath id=\"p5668bdc7d0\">\n   <rect height=\"94.576271\" width=\"94.576271\" x=\"805.140678\" y=\"7.2\"/>\n  </clipPath>\n  <clipPath id=\"pd954ffba65\">\n   <rect height=\"94.576271\" width=\"94.576271\" x=\"805.140678\" y=\"125.803636\"/>\n  </clipPath>\n  <clipPath id=\"pe2493d7ce4\">\n   <rect height=\"94.576271\" width=\"94.576271\" x=\"918.632203\" y=\"7.2\"/>\n  </clipPath>\n  <clipPath id=\"p0b1524e0df\">\n   <rect height=\"94.576271\" width=\"94.576271\" x=\"918.632203\" y=\"125.803636\"/>\n  </clipPath>\n  <clipPath id=\"p0cd5117847\">\n   <rect height=\"94.576271\" width=\"94.576271\" x=\"1032.123729\" y=\"7.2\"/>\n  </clipPath>\n  <clipPath id=\"p4ac3fbd0d4\">\n   <rect height=\"94.576271\" width=\"94.576271\" x=\"1032.123729\" y=\"125.803636\"/>\n  </clipPath>\n </defs>\n</svg>\n",
      "image/png": "[encoded data removed]"
     },
     "metadata": {
      "needs_background": "light"
     }
    }
   ],
   "source": [
    "import matplotlib.pyplot as plt\n",
    "\n",
    "# Choose model to plot\n",
    "model = ae # or vae\n",
    "X_test = dataloader.dataset.test_data\n",
    "\n",
    "n = 10\n",
    "plt.figure(figsize=(20, 4))\n",
    "for i in range(n):\n",
    "    # Original images\n",
    "    ax = plt.subplot(2, n, i + 1)\n",
    "    plt.imshow(X_test[i].reshape(28, 28), cmap=\"gray\")\n",
    "    ax.get_xaxis().set_visible(False)\n",
    "    ax.get_yaxis().set_visible(False)\n",
    "\n",
    "    # Reconstructed images\n",
    "    ax = plt.subplot(2, n, i + 1 + n)\n",
    "    encoded_img = model.encoder(X_test[i].flatten().float())\n",
    "    decoded_img = model.decoder(encoded_img).detach().numpy().reshape(28,28)\n",
    "    plt.imshow(decoded_img, cmap=\"gray\")\n",
    "    ax.get_xaxis().set_visible(False)\n",
    "    ax.get_yaxis().set_visible(False)\n",
    "plt.show()"
   ]
  }
 ],
 "metadata": {
  "jupytext": {
   "cell_metadata_filter": "-all",
   "main_language": "python",
   "notebook_metadata_filter": "-all"
  },
  "kernelspec": {
   "name": "python3",
   "display_name": "Python 3.8.3 64-bit ('base': conda)",
   "metadata": {
    "interpreter": {
     "hash": "e134e05457d34029b6460cd73bbf1ed73f339b5b6d98c95be70b69eba114fe95"
    }
   }
  }
 },
 "nbformat": 4,
 "nbformat_minor": 4
}